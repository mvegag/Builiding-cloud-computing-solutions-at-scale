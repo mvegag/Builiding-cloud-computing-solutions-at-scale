{
  "cells": [
    {
      "cell_type": "markdown",
      "metadata": {
        "id": "view-in-github",
        "colab_type": "text"
      },
      "source": [
        "<a href=\"https://colab.research.google.com/github/mvegag/Builiding-cloud-computing-solutions-at-scale/blob/main/Test.ipynb\" target=\"_parent\"><img src=\"https://colab.research.google.com/assets/colab-badge.svg\" alt=\"Open In Colab\"/></a>"
      ]
    },
    {
      "cell_type": "code",
      "execution_count": null,
      "metadata": {
        "id": "YJRRbk38vCGu",
        "outputId": "28ad1555-48f1-4361-c3d9-732d07f15667"
      },
      "outputs": [
        {
          "name": "stdout",
          "output_type": "stream",
          "text": [
            "Hello world\n"
          ]
        }
      ],
      "source": [
        "print(\"Hello world\")"
      ]
    },
    {
      "cell_type": "markdown",
      "metadata": {
        "id": "M5jTbJD7vCGv"
      },
      "source": [
        "## Esto es una prueba\n",
        "\n",
        "$\\frac{1}{\\sqrt{2\\pi\\sigma^2}}\\exp{\\left(-\\frac{1}{2}\\frac{(x-\\mu)^2}{\\sigma^2}\\right)}$\n",
        "\n",
        "* Primero\n",
        "* Segundo\n",
        "\n",
        "1. Primero\n",
        "2. Segundo\n",
        "\n",
        "[github](github.com/mvegag)"
      ]
    },
    {
      "cell_type": "code",
      "source": [
        "print(\"Prueba colab\")"
      ],
      "metadata": {
        "id": "4x-_YyuIvE8p",
        "outputId": "3f193e3a-ffd2-4462-cd5b-1eafa2493e57",
        "colab": {
          "base_uri": "https://localhost:8080/"
        }
      },
      "execution_count": 1,
      "outputs": [
        {
          "output_type": "stream",
          "name": "stdout",
          "text": [
            "Prueba colab\n"
          ]
        }
      ]
    }
  ],
  "metadata": {
    "kernelspec": {
      "display_name": "Python 3",
      "language": "python",
      "name": "python3"
    },
    "language_info": {
      "codemirror_mode": {
        "name": "ipython",
        "version": 3
      },
      "file_extension": ".py",
      "mimetype": "text/x-python",
      "name": "python",
      "nbconvert_exporter": "python",
      "pygments_lexer": "ipython3",
      "version": "3.7.6"
    },
    "colab": {
      "provenance": [],
      "include_colab_link": true
    }
  },
  "nbformat": 4,
  "nbformat_minor": 0
}