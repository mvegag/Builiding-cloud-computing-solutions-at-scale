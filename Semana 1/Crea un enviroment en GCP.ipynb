{
 "cells": [
  {
   "cell_type": "markdown",
   "source": [
    "## Terminos clave\n",
    "\n",
    "### Cloud build\n",
    "\n",
    "Es un servicio que ejecuta un trabajo para probar, construir y deplegar aplicaciones. Los pasos se definen en un archivo **yaml**.\n",
    "\n",
    "### Idempotencia\n",
    "\n",
    "Habilidad para correr otra vez workflows sin efectos secundarios. Cloud Build re intenta builds si fallan mejorando la fiabilidad.\n",
    "\n",
    "### Gcloud\n",
    "\n",
    "Linea de comandos para desplegar y manejar herramientas de Google Cloud.\n",
    "\n",
    "### Trigger\n",
    "\n",
    "Escucha un evento que invoca un workflow automático cuando las condiciones configuradas se cumplen.\n",
    "\n"
   ],
   "metadata": {
    "collapsed": false
   },
   "id": "5d14a324bf018256"
  },
  {
   "cell_type": "code",
   "execution_count": null,
   "id": "initial_id",
   "metadata": {
    "collapsed": true
   },
   "outputs": [],
   "source": []
  }
 ],
 "metadata": {
  "kernelspec": {
   "display_name": "Python 3",
   "language": "python",
   "name": "python3"
  },
  "language_info": {
   "codemirror_mode": {
    "name": "ipython",
    "version": 2
   },
   "file_extension": ".py",
   "mimetype": "text/x-python",
   "name": "python",
   "nbconvert_exporter": "python",
   "pygments_lexer": "ipython2",
   "version": "2.7.6"
  }
 },
 "nbformat": 4,
 "nbformat_minor": 5
}
