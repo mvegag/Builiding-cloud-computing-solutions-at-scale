{
 "cells": [
  {
   "cell_type": "markdown",
   "source": [
    "## Palabras claves\n",
    "\n",
    "* Makefile: Da una reta para construir software. \n",
    "* Tests: Se asegura que el software funciona.\n",
    "* Linting: Buena practica en Python, revisa el syntax.\n",
    "\n",
    "## Acciones de Github\n",
    "\n",
    "Permite la integración contínua.\n",
    "\n",
    "## Términos importantes\n",
    "\n",
    "### Integración continua\n",
    "\n",
    "La práctica de juntar frecuentemente cambios de código a un repositorio compartido y probar los cambios automáticamente."
   ],
   "metadata": {
    "collapsed": false
   },
   "id": "df60304263b3d35f"
  },
  {
   "cell_type": "code",
   "outputs": [],
   "source": [
    "# integración continua\n",
    "\n",
    "import unittest\n",
    "\n",
    "# nuevo cambio en el codigo\n",
    "\n",
    "def sum(a, b):\n",
    "    return a + b\n",
    "\n",
    "# prueba para validacion\n",
    "\n",
    "class TestSum(unittest.TestCase):\n",
    "    def test_sum(self):\n",
    "        self.assertEqual(sum(2, 3), 5)\n",
    "        \n",
    "if __name__ == '__main__':\n",
    "    unittest.main()\n",
    "    \n",
    "# si la prueba para, la integración continua continua\n",
    "# si la prueba falla, la pipeline se bloquea"
   ],
   "metadata": {
    "collapsed": false
   },
   "id": "58855a035db3541c"
  },
  {
   "cell_type": "markdown",
   "source": [
    "### Build server\n",
    "\n",
    "Un servidor que automaticamente corre builds y prueba siempre que el código tenga algún cambio al repositorio.\n",
    "\n",
    "### Makefile\n",
    "\n",
    "Un archivo que contiene una receta para tareas de automatización comunes.\n",
    "\n",
    "### Yaml\n",
    "\n",
    "Un tipo de formato de datos estructurado usado para archivos de configuración.\n",
    "\n",
    "### Artifact\n",
    "\n",
    "La salida de un proceso build, usualmente algunos archivos que se despliegan si las pruebas pasan."
   ],
   "metadata": {
    "collapsed": false
   },
   "id": "d0fc9c456efbfe26"
  },
  {
   "cell_type": "code",
   "outputs": [],
   "source": [
    "# Artifact\n",
    "\n",
    "import pickle\n",
    "\n",
    "data = {\"page_views\": [154, 183, 287]}  \n",
    "\n",
    "# guardar el análisis final como artifact\n",
    "with open(\"report.pkl\", \"wb\") as f:\n",
    "    pickle.dump(data, f)\n",
    "    \n",
    "# Archive/upload report.pkl \n",
    "# Si el test pasa -> despliega el archivo!"
   ],
   "metadata": {
    "collapsed": false
   },
   "id": "dd704541f125698e"
  },
  {
   "cell_type": "markdown",
   "source": [
    "La **integración continua** nos ahorra tiempo al ayudarnos a saber si nuestro software funciona bien, si no van a haber errores.\n",
    "\n",
    "* El primer paso es empezar local, crear un makefile, test, virtualenv, probar localmente si todo funciona.\n",
    "* Luego asegurarse que Github actions pueda automatizar el proceso y replicar lo que pasa localmente en la nube."
   ],
   "metadata": {
    "collapsed": false
   },
   "id": "66e9fb3d6e8f5c6b"
  },
  {
   "cell_type": "markdown",
   "source": [
    "## AWS CLOUD\n",
    "\n",
    "Es un entorno de desarrollo basado en la nube.\n",
    "\n",
    "## Crear un proyecto\n",
    "\n",
    "1. Crear una makefile.\n",
    "2. Crear un archivo requirements.txt\n",
    "3. Crear un script \n",
    "4. Crear el archivo de prueba\n",
    "5. Crear un virtualenv de Python\n",
    "\n",
    "[Enviroment en AWS cloud9](https://us-east-2.console.aws.amazon.com/cloud9/ide/e19dde1d4ddc4f17920ec5cbc714ffda)\n",
    "[Github del proyecto](https://github.com/mvegag/Scaffold)"
   ],
   "metadata": {
    "collapsed": false
   },
   "id": "ee73ef45d862e1e0"
  }
 ],
 "metadata": {
  "kernelspec": {
   "display_name": "Python 3",
   "language": "python",
   "name": "python3"
  },
  "language_info": {
   "codemirror_mode": {
    "name": "ipython",
    "version": 2
   },
   "file_extension": ".py",
   "mimetype": "text/x-python",
   "name": "python",
   "nbconvert_exporter": "python",
   "pygments_lexer": "ipython2",
   "version": "2.7.6"
  }
 },
 "nbformat": 4,
 "nbformat_minor": 5
}
