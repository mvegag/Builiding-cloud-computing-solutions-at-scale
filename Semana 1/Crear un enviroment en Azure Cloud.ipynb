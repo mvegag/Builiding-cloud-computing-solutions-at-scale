{
 "cells": [
  {
   "cell_type": "markdown",
   "source": [
    "## Testing\n",
    "\n",
    "* Se debe tener lo necesario para que funcione.\n",
    "* Se debe tener juicio propio de saber qué está pasando si algo falla.\n",
    "* Testing ahorra tiempo.\n",
    "* Ayuda a tener todo automatizado.\n",
    "\n",
    "Todo esto ayuda a mejorar los proyectos y código. (Kaizen)\n",
    "\n",
    "## Azure Cloud Shell\n",
    "\n",
    "[Azure enviroment](https://portal.azure.com/#home)\n",
    "[Github Azure incluido](https://github.com/mvegag/Scaffold)\n",
    "\n",
    "\n"
   ],
   "metadata": {
    "collapsed": false
   },
   "id": "9621a8360d196b6d"
  }
 ],
 "metadata": {
  "kernelspec": {
   "display_name": "Python 3",
   "language": "python",
   "name": "python3"
  },
  "language_info": {
   "codemirror_mode": {
    "name": "ipython",
    "version": 2
   },
   "file_extension": ".py",
   "mimetype": "text/x-python",
   "name": "python",
   "nbconvert_exporter": "python",
   "pygments_lexer": "ipython2",
   "version": "2.7.6"
  }
 },
 "nbformat": 4,
 "nbformat_minor": 5
}
